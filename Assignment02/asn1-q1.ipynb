{
 "cells": [
  {
   "cell_type": "markdown",
   "metadata": {},
   "source": [
    "# Step 1: Implement the vector median filter for colour images.\n",
    "\n",
    "Write a function that implements the vector median filter.  Details on the vector median filter can be found in Topic 4 of the lecture notes and implementation hints are available in the assignment description PDF.   \n",
    "\n",
    "The parameters to your function should be the input image `I`, and the `radius` of the square neighbourhood, e.g. radius 1 = 3x3 filter, radius 2 = 5x5 filter, etc.\n",
    "\n",
    "Your function should accept images of dtype `uint8` or `float`.    It is easiest if you work with the image as data type `float`.   If the input image is of type `uint8`, it is suggested that you convert it to dtype `float`, construct the output image also as type `float` and then convert it back to `uint8` before returning it.  In any case, the output image returned should be the same dtype as the input image."
   ]
  },
  {
   "cell_type": "code",
   "execution_count": 1,
   "metadata": {
    "jupyter": {
     "outputs_hidden": true
    }
   },
   "outputs": [],
   "source": [
    "def vector_median(I, radius):\n",
    "    img_origin_type = I.dtype\n",
    "    I = util.img_as_float(I)\n",
    "\n",
    "    n, m, k = I.shape\n",
    "    l = radius * 2 + 1\n",
    "    ans = np.zeros((n, m, k))\n",
    "\n",
    "    for i in range(n):\n",
    "        for j in range(m):\n",
    "            window = I.take(\n",
    "                range(j - radius, j + radius + 1),\n",
    "                mode='clip',\n",
    "                axis=1\n",
    "            ).take(\n",
    "                range(i - radius, i + radius + 1),\n",
    "                mode='clip',\n",
    "                axis=0\n",
    "            )\n",
    "\n",
    "            colors = np.reshape(window, (l * l, 3)).transpose()\n",
    "            Y = np.tile(colors, (l * l, 1, 1)).transpose((2, 1, 0))\n",
    "            X = np.tile(colors, (l * l, 1, 1))\n",
    "            \n",
    "            temp = np.abs(X - Y).sum(axis=0).sum(axis=0)\n",
    "            ans[i, j, :] = Y[np.argmin(temp), :, 0]\n",
    "            \n",
    "    if img_origin_type == \"uint8\":\n",
    "        ans = util.img_as_ubyte(ans)\n",
    "    return ans"
   ]
  },
  {
   "cell_type": "markdown",
   "metadata": {},
   "source": [
    "# Step 2: Establish a Baseline\n",
    "\n",
    "Determine the PSNR and SSIM of all of the noisy images by comparing them to their noiseless versions -- store these in a list. \n",
    "\n",
    "Filter each noisy image with a 3x3 vector median filter and compute the PSNR and SSIM of all of the filtered noisy images (by comparing them to the noiseless images) -- store these in a list.  \n",
    "\n",
    "The noiseless images are provided so you can compute PSNR and SSIM.  See functions `skimage.measure.compare_psnr()` and `skimage.measure.compare_ssim()`.  You'll need the `multichannel=true` argument for `compare_ssim()`.\n",
    "\n",
    "**Important note:** If you are using skimage version 0.18 or higher, you will find that these functions have been moved and renamed to `skimage.metrics.peak_signal_noise_ratio()` and `skimage.metrics.structural_similarity()`, respectively.  It's OK to use these versions of the functions.  Other than the name and module location change, they work the exactly same way as `skimage.measure.compare_psnr()` and `skimage.measure.compare_ssim()`.\n",
    "\n",
    "\n",
    "_Hint: This step requires doing a few seemingly different things, but it's actually easier to do them all at once in the same loop._\n"
   ]
  },
  {
   "cell_type": "code",
   "execution_count": 8,
   "metadata": {
    "jupyter": {
     "outputs_hidden": true
    }
   },
   "outputs": [],
   "source": [
    "# Some modules you might need.\n",
    "\n",
    "import skimage.io as io\n",
    "import os as os\n",
    "import skimage.filters as filt\n",
    "import skimage.measure as meas\n",
    "import skimage.util as util\n",
    "import numpy as np\n",
    "import skimage\n",
    "\n",
    "%matplotlib inline\n",
    "\n",
    "psnr_noisy = []\n",
    "ssim_noisy = []\n",
    "psnr_vmf = []\n",
    "ssim_vmf = []\n",
    "psnr_mine = []\n",
    "ssim_mine = []\n",
    "\n",
    "# For every file in the noisy images folder...\n",
    "for root, dirs, files in os.walk('images/noisy'):\n",
    "    for filename in files:\n",
    "        # construct the full filename\n",
    "        noisy_name = os.path.join(root, filename)\n",
    "        noisless_name = os.path.join(\"images/noiseless\", filename)\n",
    "        # In case these metadata files show up in the folders, ignore them.\n",
    "        if filename == '.DS_Store':   \n",
    "            continue\n",
    "        # Process image noisy file 'fname' here.  The images have the same filenames name in the \n",
    "        # noisy, noisy-test, and noiseless folders.  You'll have to construct the path to the\n",
    "        # noiseless images yourself.  It's easy using os.path.join(), as above.\n",
    "        noisy_img = util.img_as_float(io.imread(noisy_name))\n",
    "        noisless_img = util.img_as_float(io.imread(noisless_name))\n",
    "        \n",
    "        vmf_img = vector_median(noisy_img, 1)\n",
    "        mine_img = my_filter(noisy_img, 1)\n",
    "\n",
    "        psnr_noisy.append(meas.compare_psnr(noisy_img, noisless_img))\n",
    "        ssim_noisy.append(meas.compare_ssim(noisy_img, noisless_img, multichannel=True))\n",
    "        \n",
    "        psnr_vmf.append(meas.compare_psnr(vmf_img, noisless_img))\n",
    "        ssim_vmf.append(meas.compare_ssim(vmf_img, noisless_img, multichannel=True))\n",
    "        \n",
    "        psnr_mine.append(meas.compare_psnr(mine_img, noisless_img))\n",
    "        ssim_mine.append(meas.compare_ssim(mine_img, noisless_img, multichannel=True))"
   ]
  },
  {
   "cell_type": "markdown",
   "metadata": {},
   "source": [
    "# Step 2: Compute average baseline metrics.\n",
    "\n",
    "Compute the average PSNR and SSIM for the unfiltered noisy images (take the PSNR and SSIM measures for each image and average them).  Do the same for the median-filtered noisy images.  Plot a bar graph showing the two mean PSNR values and another showing the two mean SSIM values before and after filtering (see assignment description for sample output)."
   ]
  },
  {
   "cell_type": "code",
   "execution_count": 9,
   "metadata": {
    "jupyter": {
     "outputs_hidden": true
    }
   },
   "outputs": [
    {
     "data": {
      "text/plain": [
       "([<matplotlib.axis.XTick at 0x18c207b1048>,\n",
       "  <matplotlib.axis.XTick at 0x18c207b4048>,\n",
       "  <matplotlib.axis.XTick at 0x18c1f8c8b08>],\n",
       " [Text(0.25, 0, 'SSIM Noisy'),\n",
       "  Text(1.25, 0, 'SSIM Median'),\n",
       "  Text(2.25, 0, 'SSIM Mine')])"
      ]
     },
     "execution_count": 9,
     "metadata": {},
     "output_type": "execute_result"
    },
    {
     "data": {
      "text/plain": [
       "<Figure size 432x288 with 0 Axes>"
      ]
     },
     "metadata": {},
     "output_type": "display_data"
    },
    {
     "data": {
      "image/png": "[encoded data removed]",
      "text/plain": [
       "<Figure size 720x720 with 4 Axes>"
      ]
     },
     "metadata": {
      "needs_background": "light"
     },
     "output_type": "display_data"
    }
   ],
   "source": [
    "# some modules you might need.\n",
    "\n",
    "import matplotlib.pyplot as plt\n",
    "import numpy as np\n",
    "\n",
    "psnr_noisy_avg = np.mean(psnr_noisy)\n",
    "ssim_noisy_avg = np.mean(ssim_noisy)\n",
    "\n",
    "psnr_vmf_avg = np.mean(psnr_vmf)\n",
    "ssim_vmf_avg = np.mean(ssim_vmf)\n",
    "\n",
    "psnr_mine_avg = np.mean(psnr_mine)\n",
    "ssim_mine_avg = np.mean(ssim_mine)\n",
    "\n",
    "width = 0.5\n",
    "\n",
    "plt.figure()\n",
    "plt.subplots(2, 2, figsize=(10, 10))\n",
    "x = np.arange(width / 2, width * 4, 1)\n",
    "\n",
    "plt.subplot(2, 2, 1)\n",
    "plt.bar(x, (psnr_noisy_avg, psnr_vmf_avg), width)\n",
    "plt.xticks(x, (\"PSNR Noisy\", \"PSNR Median\"))\n",
    "\n",
    "plt.subplot(2, 2, 2)\n",
    "plt.bar(x, (ssim_noisy_avg, ssim_vmf_avg), width)\n",
    "plt.xticks(x, (\"SSIM Noisy\", \"SSIM Median\"))\n",
    "\n",
    "x = np.arange(width / 2, width * 6, 1)\n",
    "plt.subplot(2, 2, 3)\n",
    "plt.bar(x, (psnr_noisy_avg, psnr_vmf_avg, psnr_mine_avg), width)\n",
    "plt.xticks(x, (\"PSNR Noisy\", \"PSNR Median\", \"PSNR Mine\"))\n",
    "\n",
    "plt.subplot(2, 2, 4)\n",
    "plt.bar(x, (ssim_noisy_avg, ssim_vmf_avg, ssim_mine_avg), width)\n",
    "plt.xticks(x, (\"SSIM Noisy\", \"SSIM Median\", \"SSIM Mine\"))"
   ]
  },
  {
   "cell_type": "markdown",
   "metadata": {},
   "source": [
    "# Step 3:  See if you can do better!\n",
    "\n",
    "Find a better way to denoise the images.  Compute the mean PSNR and SSIM for your denoising method.   Replot the graphs in the previous step with the new results added.\n",
    "\n",
    "_You can use any functions in the python libraries to help you (numpy, scipy, skimage, etc.) but you cannot bring in code from external sources._\n"
   ]
  },
  {
   "cell_type": "code",
   "execution_count": 2,
   "metadata": {},
   "outputs": [],
   "source": [
    "# Write your de-noising method here.\n",
    "import skimage.restoration as rest\n",
    "\n",
    "def my_filter(img, radius):\n",
    "    denoise = vector_median(img, radius)\n",
    "    denoise = rest.denoise_wavelet(\n",
    "        denoise,\n",
    "        multichannel=True, \n",
    "        convert2ycbcr=True, \n",
    "        method='BayesShrink', \n",
    "        mode='soft'\n",
    "    )\n",
    "    return denoise"
   ]
  }
 ],
 "metadata": {
  "kernelspec": {
   "display_name": "Python 3",
   "language": "python",
   "name": "python3"
  },
  "language_info": {
   "codemirror_mode": {
    "name": "ipython",
    "version": 3
   },
   "file_extension": ".py",
   "mimetype": "text/x-python",
   "name": "python",
   "nbconvert_exporter": "python",
   "pygments_lexer": "ipython3",
   "version": "3.7.9"
  }
 },
 "nbformat": 4,
 "nbformat_minor": 4
}
